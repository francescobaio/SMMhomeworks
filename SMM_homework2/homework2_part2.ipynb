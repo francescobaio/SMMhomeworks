{
 "cells": [
  {
   "cell_type": "code",
   "execution_count": 1,
   "metadata": {},
   "outputs": [
    {
     "data": {
      "text/html": [
       "<div style=\"text-align: center;\"><img src=\"classificationDigit.png\"></div>"
      ],
      "text/plain": [
       "<IPython.core.display.HTML object>"
      ]
     },
     "execution_count": 1,
     "metadata": {},
     "output_type": "execute_result"
    }
   ],
   "source": [
    "from IPython.display import HTML\n",
    "file_path = 'classificationDigit.png'\n",
    "html_code = f'<div style=\"text-align: center;\"><img src=\"{file_path}\"></div>'\n",
    "HTML(html_code)"
   ]
  },
  {
   "cell_type": "code",
   "execution_count": 3,
   "metadata": {},
   "outputs": [
    {
     "data": {
      "text/html": [
       "<div style=\"text-align: center;\"><img src=\"classificationDigit2.png\"></div>"
      ],
      "text/plain": [
       "<IPython.core.display.HTML object>"
      ]
     },
     "execution_count": 3,
     "metadata": {},
     "output_type": "execute_result"
    }
   ],
   "source": [
    "from IPython.display import HTML\n",
    "file_path = 'classificationDigit2.png'\n",
    "html_code = f'<div style=\"text-align: center;\"><img src=\"{file_path}\"></div>'\n",
    "HTML(html_code)"
   ]
  },
  {
   "cell_type": "code",
   "execution_count": 4,
   "metadata": {},
   "outputs": [
    {
     "data": {
      "text/html": [
       "<div style=\"text-align: center;\"><img src=\"Digitexe.png\"></div>"
      ],
      "text/plain": [
       "<IPython.core.display.HTML object>"
      ]
     },
     "execution_count": 4,
     "metadata": {},
     "output_type": "execute_result"
    }
   ],
   "source": [
    "from IPython.display import HTML\n",
    "file_path = 'Digitexe.png'\n",
    "html_code = f'<div style=\"text-align: center;\"><img src=\"{file_path}\"></div>'\n",
    "HTML(html_code)"
   ]
  },
  {
   "cell_type": "code",
   "execution_count": 5,
   "metadata": {},
   "outputs": [],
   "source": [
    "import scipy.io\n",
    "import matplotlib.pyplot as plt\n",
    "import numpy as np\n",
    "import random"
   ]
  },
  {
   "cell_type": "code",
   "execution_count": 84,
   "metadata": {},
   "outputs": [
    {
     "name": "stdout",
     "output_type": "stream",
     "text": [
      "(256, 319)\n",
      "(256, 252)\n",
      "(256, 202)\n",
      "(256, 131)\n",
      "(256, 122)\n",
      "(256, 88)\n",
      "(256, 151)\n",
      "(256, 166)\n",
      "(256, 144)\n",
      "(256, 132)\n",
      "[[0.     0.     0.     ... 0.     0.     0.    ]\n",
      " [0.     0.     0.     ... 0.     0.     0.    ]\n",
      " [0.     0.     0.     ... 0.     0.     0.    ]\n",
      " ...\n",
      " [0.     0.1645 0.     ... 0.     0.     0.    ]\n",
      " [0.     0.086  0.     ... 0.     0.     0.    ]\n",
      " [0.     0.     0.     ... 0.     0.     0.    ]]\n",
      "[[6 5 4 ... 7 9 8]]\n",
      "X dimensions: (256, 1707)\n",
      "I dimensions: (1, 1707)\n"
     ]
    }
   ],
   "source": [
    "dataset = scipy.io.loadmat('MNIST.mat')\n",
    "X = dataset['X']\n",
    "I = dataset['I']\n",
    "\n",
    "for i in range(10):\n",
    "    print(X[:,I[0] == i].shape)\n",
    "\n",
    "print(X)\n",
    "print(I)\n",
    "\n",
    "print('X dimensions:', X.shape)\n",
    "print('I dimensions:', I.shape)"
   ]
  },
  {
   "cell_type": "markdown",
   "metadata": {},
   "source": [
    " - Visualize a bunch of datapoints of X with the function plt.imshow. <br>\n",
    "  -Extract from X those columns that corresponds to digits 3 or 4. Those digits represents the\n",
    "classes C1 and C2 defined above."
   ]
  },
  {
   "cell_type": "code",
   "execution_count": 7,
   "metadata": {},
   "outputs": [
    {
     "data": {
      "image/png": "[encoded data removed]",
      "text/plain": [
       "<Figure size 1296x576 with 10 Axes>"
      ]
     },
     "metadata": {
      "needs_background": "light"
     },
     "output_type": "display_data"
    }
   ],
   "source": [
    "plt.figure(figsize=(18, 8))\n",
    "\n",
    "for i in range(10):\n",
    "    plt.subplot(2,5,i+1)\n",
    "    # reshape the column vector in a matrix 16x16\n",
    "    image = X[:,i].reshape(16,16)\n",
    "    plt.imshow(image, cmap='gray')  \n",
    "    plt.title(f'Label: {I[0][i]}', fontsize=10)  \n",
    "    plt.axis('off')  \n",
    "\n",
    "plt.show()\n"
   ]
  },
  {
   "cell_type": "markdown",
   "metadata": {},
   "source": [
    "• Extract from X those columns that corresponds to digits 3 or 4. Those digits represents the classes C1 and C2 defined above."
   ]
  },
  {
   "cell_type": "code",
   "execution_count": 8,
   "metadata": {},
   "outputs": [
    {
     "name": "stdout",
     "output_type": "stream",
     "text": [
      "Number of columns for digits 3 and 4: 253\n",
      "Dimensions of X after extraction: (256, 253)\n",
      "Dimensions of I after extraction: (1, 253)\n"
     ]
    }
   ],
   "source": [
    "digits_cols = [i for i in range(X.shape[1]) if I[0][i] == 3 or I[0][i] == 4]\n",
    "print(f'Number of columns for digits 3 and 4: {len(digits_cols)}')\n",
    "\n",
    "X = X[:,digits_cols]\n",
    "print(f'Dimensions of X after extraction: {X.shape}')\n",
    "\n",
    "I = I[:,digits_cols]\n",
    "print(f'Dimensions of I after extraction: {I.shape}')"
   ]
  },
  {
   "cell_type": "markdown",
   "metadata": {},
   "source": [
    "Split the obtained dataset in training and testing. From now on, we will only consider the training\n",
    "set. The test set will be only used at the end of the exercise to test the algorithm."
   ]
  },
  {
   "cell_type": "code",
   "execution_count": 9,
   "metadata": {},
   "outputs": [
    {
     "name": "stdout",
     "output_type": "stream",
     "text": [
      "X_train shape: (256, 202)\n",
      "I_train shape: (1, 202)\n",
      "X_test shape: (256, 51)\n",
      "I_test shape: (1, 51)\n"
     ]
    }
   ],
   "source": [
    "# I'm going to use a 80% of data in the dataset X for the train and 20% for the test.\n",
    "train_ratio = 0.8\n",
    "\n",
    "train_size = int(train_ratio * X.shape[1])\n",
    "indices = np.random.permutation(X.shape[1])\n",
    "\n",
    "train_indices = indices[:train_size]\n",
    "test_indices = indices[train_size:]\n",
    "\n",
    "# Creation of train and test sets \n",
    "X_train = X[:, train_indices]\n",
    "I_train = I[:, train_indices]\n",
    "X_test = X[:, test_indices]\n",
    "I_test = I[:, test_indices]\n",
    "\n",
    "print(f'X_train shape: {X_train.shape}')\n",
    "print(f'I_train shape: {I_train.shape}')\n",
    "print(f'X_test shape: {X_test.shape}')\n",
    "print(f'I_test shape: {I_test.shape}')"
   ]
  },
  {
   "cell_type": "markdown",
   "metadata": {},
   "source": [
    "• Create the matrices X1 and X2 defined above from X."
   ]
  },
  {
   "cell_type": "code",
   "execution_count": 10,
   "metadata": {},
   "outputs": [
    {
     "name": "stdout",
     "output_type": "stream",
     "text": [
      "Dimensions of X1 (digit 3): (256, 105)\n",
      "Dimensions of X2 (digit 4): (256, 97)\n"
     ]
    }
   ],
   "source": [
    "X1 = X_train[:,I_train[0] == 3]\n",
    "X2 = X_train[:,I_train[0] == 4]\n",
    "\n",
    "print(f'Dimensions of X1 (digit 3): {X1.shape}')\n",
    "print(f'Dimensions of X2 (digit 4): {X2.shape}')"
   ]
  },
  {
   "cell_type": "markdown",
   "metadata": {},
   "source": [
    "• Compute the SVD decomposition of X1 and X2 with np.linalg.svd(matrix, full matrices=False) and denote the U-part of the two decompositions as U1 and U2."
   ]
  },
  {
   "cell_type": "code",
   "execution_count": 11,
   "metadata": {},
   "outputs": [
    {
     "name": "stdout",
     "output_type": "stream",
     "text": [
      "Dimensions of U1: (256, 105)\n",
      "Dimensions of S1: (105,)\n",
      "Dimensions of V1T: (105, 105)\n",
      "Dimensions of U2: (256, 97)\n",
      "Dimensions of S2: (97,)\n",
      "Dimensions of V2T: (97, 97)\n"
     ]
    }
   ],
   "source": [
    "U1, S1, VT1 = np.linalg.svd(X1, full_matrices=False)\n",
    "U2, S2, VT2 = np.linalg.svd(X2, full_matrices=False)\n",
    "\n",
    "print(f'Dimensions of U1: {U1.shape}')\n",
    "print(f'Dimensions of S1: {S1.shape}')\n",
    "print(f'Dimensions of V1T: {VT1.shape}')\n",
    "\n",
    "print(f'Dimensions of U2: {U2.shape}')\n",
    "print(f'Dimensions of S2: {S2.shape}')\n",
    "print(f'Dimensions of V2T: {VT2.shape}')\n",
    "\n",
    "# Important note:\n",
    "# By using full_matrices=False, we store only the first p columns of the matrix U1, which are the vectors of the orthogonal basis for the original matrix X1.\n",
    "# As a result, the shape of U1 is 256x106, not 256x256 as it would be in the full matrix form, 106 are the singular values different from zero."
   ]
  },
  {
   "cell_type": "markdown",
   "metadata": {},
   "source": [
    "### Implications of SVD on the MNIST Dataset\n",
    "\n",
    "- Subspace of R ^256: The column space of X_1 is a subspace of R^256. Each column of X_1 represents a vector in R^256(since each image is flattened into a 256-element vector), and the column space is formed by all possible linear combinations of these columns.\n",
    "\n",
    "- Dimensionality of Column Space: The dimension of this column space is 106, indicated by the number of linearly independent columns in X_1. This implies that there are 106 independent directions or dimensions in the column space of X_1.\n",
    "\n",
    "- Orthogonal Basis in U1: The matrix U1, obtained from the SVD of X_1, contains the first 106 columns that form an orthogonal basis for this column space. Each column of U1 is a vector in R^256, and together they represent all the necessary directions to construct any vector in the column space of X_1.\n",
    "\n",
    "- Practical Implications: This means that although the original images are vectors in a high-dimensional space R^256, their actual variety and the information they carry can be captured and represented in a lower-dimensional subspace (106 dimensions in this case). This allows us to have an efficient representation and dimensionality reduction of data while preserving most of the relevant information."
   ]
  },
  {
   "cell_type": "markdown",
   "metadata": {},
   "source": [
    "• Take an unknown digit y from the test set, and compute y⊥1 = U1(UT1y) and y⊥2 = U2(UT2y)."
   ]
  },
  {
   "cell_type": "code",
   "execution_count": 20,
   "metadata": {},
   "outputs": [
    {
     "name": "stdout",
     "output_type": "stream",
     "text": [
      "Randomly selected index: 35\n",
      "The selected image rappresent a : 3\n",
      "Shape of the orthogonal projection onto space of digit 3 (y_ort_1): (256, 1)\n",
      "Shape of the orthogonal projection onto space of digit 4 (y_ort_2): (256, 1)\n"
     ]
    }
   ],
   "source": [
    "random_idx = random.randint(0,I_test.shape[1] - 1)\n",
    "print(f'Randomly selected index: {random_idx}')\n",
    "\n",
    "y = X_test[:,random_idx:random_idx+1]\n",
    "print(f'The selected image rappresent a : {I_test[0][random_idx]}')\n",
    "\n",
    "\n",
    "y_ort_1 = U1 @ (U1.T @ y)\n",
    "y_ort_2 = U2 @ (U2.T @ y)\n",
    "\n",
    "print(f'Shape of the orthogonal projection onto space of digit 3 (y_ort_1): {y_ort_1.shape}')\n",
    "print(f\"Shape of the orthogonal projection onto space of digit 4 (y_ort_2): {y_ort_2.shape}\")"
   ]
  },
  {
   "cell_type": "markdown",
   "metadata": {},
   "source": [
    "• Compute the distances d1 = ||y − y⊥1||2 and d2 = ||y − y⊥2||2 and classify y to C1 if d1 < d2 and to C2 if d2 < d1."
   ]
  },
  {
   "cell_type": "code",
   "execution_count": 21,
   "metadata": {},
   "outputs": [
    {
     "name": "stdout",
     "output_type": "stream",
     "text": [
      "Distance from y to its projection onto space of digit 3: 1.2985815617333103\n",
      "Distance from y to its projection onto space of digit 4: 3.848340655659126\n",
      "Y is a 3!\n"
     ]
    }
   ],
   "source": [
    "d1 = np.linalg.norm(y-y_ort_1,2)\n",
    "d2 = np.linalg.norm(y-y_ort_2,2)\n",
    "print(f\"Distance from y to its projection onto space of digit 3: {d1}\")\n",
    "print(f\"Distance from y to its projection onto space of digit 4: {d2}\")\n",
    "\n",
    "if d1 < d2:\n",
    "    print(\"Y is a 3!\")\n",
    "else:\n",
    "    print(\"Y is a 4!\")"
   ]
  },
  {
   "cell_type": "markdown",
   "metadata": {},
   "source": [
    "Repeat the experiment for different values of y in the test set. Compute the misclassification number for this algorithm."
   ]
  },
  {
   "cell_type": "code",
   "execution_count": 26,
   "metadata": {},
   "outputs": [
    {
     "name": "stdout",
     "output_type": "stream",
     "text": [
      "(1, 51)\n",
      "Number of experiment done: 51\n",
      "Number of misclassifications: 0\n"
     ]
    }
   ],
   "source": [
    "misclassifications = 0\n",
    "print(I_test.shape)\n",
    "\n",
    "for i in range(X_test.shape[1]):\n",
    "    y = X_test[:, i:i+1]\n",
    "    y_ort_1 = U1 @ (U1.T @ y)\n",
    "    y_ort_2 = U2 @ (U2.T @ y)\n",
    "\n",
    "    dist_to_3 = np.linalg.norm(y - y_ort_1,2)\n",
    "    dist_to_4 = np.linalg.norm(y - y_ort_2,2)\n",
    "\n",
    "    if dist_to_3 < dist_to_4:\n",
    "        classified_digit = 3\n",
    "    else:\n",
    "        classified_digit = 4\n",
    "\n",
    "    if classified_digit != I_test[0][i]:\n",
    "        misclassifications += 1\n",
    "\n",
    "\n",
    "print(f\"Number of experiment done: {I_test.shape[1]}\")\n",
    "print(f\"Number of misclassifications: {misclassifications}\")"
   ]
  },
  {
   "cell_type": "markdown",
   "metadata": {},
   "source": [
    "• Repeat the experiment for different digits other than 3 or 4. There is a relationship between the visual similarity of the digits and the classification error"
   ]
  },
  {
   "cell_type": "code",
   "execution_count": 52,
   "metadata": {},
   "outputs": [],
   "source": [
    "# np.random.seed(0)\n",
    "\n",
    "def filter_dataset(X, I, digit1, digit2):\n",
    "    indices = [i for i in range(I.shape[1]) if I[0][i] == digit1 or I[0][i] == digit2]\n",
    "    return X[:, indices], I[:, indices]\n",
    "\n",
    "def split_dataset(X, I, train_ratio=0.8):\n",
    "    num_train = int(train_ratio * X.shape[1])\n",
    "    indices = np.random.permutation(X.shape[1])\n",
    "    return X[:, indices[:num_train]], I[:, indices[:num_train]], X[:, indices[num_train:]], I[:, indices[num_train:]]\n",
    "\n",
    "def calculate_svd(X_train, I_train, digit_label):\n",
    "    X_digit = X_train[:, I_train[0] == digit_label]\n",
    "    U, S, VT = np.linalg.svd(X_digit, full_matrices=False)\n",
    "    return U\n",
    "\n",
    "def classify_image(y, U1, U2, digit1, digit2):\n",
    "    y_ort_1 = U1 @ (U1.T @ y)\n",
    "    y_ort_2 = U2 @ (U2.T @ y)\n",
    "\n",
    "    dist_to_digit1 = np.linalg.norm(y - y_ort_1)\n",
    "    dist_to_digit2 = np.linalg.norm(y - y_ort_2)\n",
    "\n",
    "    if dist_to_digit1 < dist_to_digit2:\n",
    "        return digit1 \n",
    "    else:\n",
    "        return digit2\n",
    "\n",
    "\n",
    "def calculate_error_rate(X, I, digit1, digit2, train_ratio=0.8):\n",
    "    X_filtered, I_filtered = filter_dataset(X, I, digit1, digit2)\n",
    "    X_train, I_train, X_test, I_test = split_dataset(X_filtered, I_filtered, train_ratio)\n",
    "    \n",
    "    U1 = calculate_svd(X_train,I_train, digit1)\n",
    "    U2 = calculate_svd(X_train,I_train, digit2)\n",
    "\n",
    "    misclassifications = 0\n",
    "    for i in range(X_test.shape[1]):\n",
    "        y = X_test[:, i:i+1]\n",
    "        classified_digit = classify_image(y, U1, U2, digit1, digit2)\n",
    "        if classified_digit != I_test[0][i]:\n",
    "            misclassifications += 1\n",
    "\n",
    "    error_rate = misclassifications / X_test.shape[1]\n",
    "\n",
    "    return misclassifications,error_rate\n"
   ]
  },
  {
   "cell_type": "code",
   "execution_count": 71,
   "metadata": {},
   "outputs": [
    {
     "name": "stdout",
     "output_type": "stream",
     "text": [
      "Misclassifications for digits 0 and 2: 35\n",
      "Error rate for digits 0 and 2: 33.33333333333333 %\n"
     ]
    }
   ],
   "source": [
    "dataset = scipy.io.loadmat('MNIST.mat')\n",
    "X = dataset['X']\n",
    "I = dataset['I']\n",
    "digit1 = int(input(\"Enter the first digit: \"))\n",
    "digit2 = int(input(\"Enter the second digit: \"))\n",
    "result = calculate_error_rate(X, I, digit1, digit2)\n",
    "print(f\"Misclassifications for digits {digit1} and {digit2}: {result[0]}\")\n",
    "print(f\"Error rate for digits {digit1} and {digit2}: {str(result[1] * 100) + ' %'}\")"
   ]
  },
  {
   "cell_type": "code",
   "execution_count": 81,
   "metadata": {},
   "outputs": [
    {
     "name": "stdout",
     "output_type": "stream",
     "text": [
      "Top 15 pairs with highest misclassifications rates:\n",
      "Couple 0-8 : Error Rate = 35.48 %\n",
      "Couple 0-9 : Error Rate = 35.16 %\n",
      "Couple 0-2 : Error Rate = 33.33 %\n",
      "Couple 0-3 : Error Rate = 33.33 %\n",
      "Couple 0-4 : Error Rate = 28.09 %\n",
      "Couple 0-7 : Error Rate = 27.84 %\n",
      "Couple 0-6 : Error Rate = 26.60 %\n",
      "Couple 1-9 : Error Rate = 25.97 %\n",
      "Couple 0-5 : Error Rate = 24.39 %\n",
      "Couple 2-5 : Error Rate = 20.69 %\n",
      "Couple 1-8 : Error Rate = 11.25 %\n",
      "Couple 5-8 : Error Rate = 10.64 %\n",
      "Couple 1-4 : Error Rate = 9.33 %\n",
      "Couple 3-5 : Error Rate = 9.09 %\n",
      "Couple 1-5 : Error Rate = 8.82 %\n"
     ]
    }
   ],
   "source": [
    "import itertools\n",
    "\n",
    "error_rates = {}\n",
    "for digit1, digit2 in itertools.combinations(range(10), 2): \n",
    "    misclassifications, error_rate = calculate_error_rate(X, I, digit1, digit2)\n",
    "    error_rates[(digit1, digit2)] = error_rate\n",
    "\n",
    "sorted_error_rates = sorted(error_rates.items(), key=lambda x: x[1], reverse=True)\n",
    "\n",
    "print(\"Top 15 pairs with highest misclassifications rates:\")\n",
    "for (digit1, digit2), error_rate in sorted_error_rates[:15]:\n",
    "   print(f\"Couple {digit1}-{digit2} : Error Rate = {error_rate * 100:.2f} %\")"
   ]
  },
  {
   "cell_type": "markdown",
   "metadata": {},
   "source": [
    "- Greater Variability for \"0\": The larger number of images for the digit \"0\" in the dataset 319 of 1707 may introduce greater variability in terms of writing styles. This increased variability can make it more challenging for the algorithm to capture a consistent and distinctive representation of this digit.\n",
    "\n",
    "- Dataset Imbalance: Overrepresentation of a certain digit in the dataset could impact the learning process and subsequent classification. \n",
    "\n",
    "- Impact on U Matrices: During SVD, a higher number of images might lead to a more complex or varied U matrix for that digit, affecting the algorithm's ability to accurately distinguish that digit from others."
   ]
  },
  {
   "cell_type": "code",
   "execution_count": 86,
   "metadata": {},
   "outputs": [
    {
     "data": {
      "text/html": [
       "<div style=\"text-align: center;\"><img src=\"Digitexe2.png\"></div>"
      ],
      "text/plain": [
       "<IPython.core.display.HTML object>"
      ]
     },
     "execution_count": 86,
     "metadata": {},
     "output_type": "execute_result"
    }
   ],
   "source": [
    "from IPython.display import HTML\n",
    "file_path = 'Digitexe2.png'\n",
    "html_code = f'<div style=\"text-align: center;\"><img src=\"{file_path}\"></div>'\n",
    "HTML(html_code)"
   ]
  },
  {
   "cell_type": "code",
   "execution_count": 93,
   "metadata": {},
   "outputs": [],
   "source": [
    "def filter_dataset(X, I, digits):\n",
    "    indices = [i for i in range(I.shape[1]) if I[0][i] in digits]\n",
    "    return X[:, indices], I[:, indices]\n",
    "\n",
    "\n",
    "def calculate_svd_multiclass(X_train, I_train, digit_labels):\n",
    "    Us = {}\n",
    "    for digit in digit_labels:\n",
    "        Us[digit] = calculate_svd(X_train, I_train, digit)\n",
    "    return Us\n",
    "\n",
    "\n",
    "def classify_image_multiclass(y, Us, digits):\n",
    "    min_dist = np.Inf\n",
    "    classified_digit = None\n",
    "    for digit in digits:\n",
    "        U = Us[digit]\n",
    "        y_ort = U @ (U.T @ y)\n",
    "        dist = np.linalg.norm(y - y_ort)\n",
    "        if dist < min_dist:\n",
    "            min_dist = dist\n",
    "            classified_digit = digit\n",
    "    return classified_digit\n",
    "\n",
    "\n",
    "def calculate_error_rate_multiclass(X, I, digits, train_ratio=0.8):\n",
    "    X_filtered, I_filtered = filter_dataset(X, I, digits)\n",
    "    X_train, I_train, X_test, I_test = split_dataset(X_filtered, I_filtered, train_ratio)\n",
    "\n",
    "    Us = calculate_svd_multiclass(X_train, I_train, digits)\n",
    "\n",
    "    misclassifications = 0\n",
    "    for i in range(X_test.shape[1]):\n",
    "        y = X_test[:, i:i+1]\n",
    "        classified_digit = classify_image_multiclass(y, Us, digits)\n",
    "        if classified_digit != I_test[0][i]:\n",
    "            misclassifications += 1\n",
    "\n",
    "    error_rate = misclassifications / X_test.shape[1]\n",
    "\n",
    "    return misclassifications, error_rate\n"
   ]
  },
  {
   "cell_type": "code",
   "execution_count": 99,
   "metadata": {},
   "outputs": [
    {
     "name": "stdout",
     "output_type": "stream",
     "text": [
      "Top 15 triples with highest misclassifications rates:\n",
      "Couple (0, 8, 9) : Error Rate = 57.98 %\n",
      "Couple (0, 7, 8) : Error Rate = 54.76 %\n",
      "Couple (0, 2, 7) : Error Rate = 54.35 %\n",
      "Couple (0, 6, 7) : Error Rate = 50.78 %\n",
      "Couple (0, 4, 9) : Error Rate = 50.43 %\n",
      "Couple (0, 2, 9) : Error Rate = 50.38 %\n",
      "Couple (0, 5, 7) : Error Rate = 49.57 %\n",
      "Couple (0, 2, 8) : Error Rate = 48.12 %\n",
      "Couple (0, 3, 8) : Error Rate = 47.90 %\n",
      "Couple (0, 2, 6) : Error Rate = 47.41 %\n",
      "Couple (0, 6, 8) : Error Rate = 47.15 %\n",
      "Couple (0, 4, 5) : Error Rate = 46.23 %\n",
      "Couple (0, 7, 9) : Error Rate = 45.97 %\n",
      "Couple (0, 4, 7) : Error Rate = 45.90 %\n",
      "Couple (0, 2, 3) : Error Rate = 45.80 %\n"
     ]
    }
   ],
   "source": [
    "import itertools\n",
    "\n",
    "error_rates = {}\n",
    "for digits in itertools.combinations(range(10), 3): \n",
    "    misclassifications, error_rate = calculate_error_rate_multiclass(X, I, digits)\n",
    "    error_rates[digits] = error_rate\n",
    "\n",
    "sorted_error_rates = sorted(error_rates.items(), key=lambda x: x[1], reverse=True)\n",
    "\n",
    "print(\"Top 15 triples with highest misclassifications rates:\")\n",
    "for digits,error_rate in sorted_error_rates[:15]:\n",
    "   print(f\"Couple {digits} : Error Rate = {error_rate * 100:.2f} %\")"
   ]
  }
 ],
 "metadata": {
  "kernelspec": {
   "display_name": "Python 3.8.5 ('base')",
   "language": "python",
   "name": "python3"
  },
  "language_info": {
   "codemirror_mode": {
    "name": "ipython",
    "version": 3
   },
   "file_extension": ".py",
   "mimetype": "text/x-python",
   "name": "python",
   "nbconvert_exporter": "python",
   "pygments_lexer": "ipython3",
   "version": "3.8.5"
  },
  "orig_nbformat": 4,
  "vscode": {
   "interpreter": {
    "hash": "d4485451d304caa8f4c9dd363991b164c5fe2ca05e2672d978ba2d9ef4990cd2"
   }
  }
 },
 "nbformat": 4,
 "nbformat_minor": 2
}

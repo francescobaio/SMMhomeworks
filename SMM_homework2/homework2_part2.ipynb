{
 "cells": [
  {
   "cell_type": "markdown",
   "metadata": {},
   "source": [
    "The task for this exercise is to learn the classification of MNIST digits by using SVD decomposition.\n",
    "Remember that, Given a matrix X ∈ R m×n and its SVD decomposition X = USV T we can prove that an orthogonal base for the space of the columns is given by the first p columns of the matrix U, where\n",
    "p = rank(X) is equal to the number of non-zero singular values of A."
   ]
  },
  {
   "cell_type": "markdown",
   "metadata": {},
   "source": [
    "• Load the MNIST dataset contained in ./data/MNIST.mat with the function scipy.io.loadmat. <br>\n",
    "This dataset, which is loaded in the form of a 256 ×1707 matrix X, contains the flattened version\n",
    "of 1707 16 × 16 grayscale handwritten digits. <br>\n",
    "Moreover, from the same file it is possible to load a vector I of length 1707 such that the i-th element of I is the true digit represented by the i-th\n",
    "image of X."
   ]
  },
  {
   "cell_type": "code",
   "execution_count": 51,
   "metadata": {},
   "outputs": [],
   "source": [
    "import scipy.io\n",
    "import matplotlib.pyplot as plt\n",
    "import numpy as np\n",
    "import random"
   ]
  },
  {
   "cell_type": "code",
   "execution_count": 19,
   "metadata": {},
   "outputs": [
    {
     "name": "stdout",
     "output_type": "stream",
     "text": [
      "[[0.     0.     0.     ... 0.     0.     0.    ]\n",
      " [0.     0.     0.     ... 0.     0.     0.    ]\n",
      " [0.     0.     0.     ... 0.     0.     0.    ]\n",
      " ...\n",
      " [0.     0.1645 0.     ... 0.     0.     0.    ]\n",
      " [0.     0.086  0.     ... 0.     0.     0.    ]\n",
      " [0.     0.     0.     ... 0.     0.     0.    ]]\n",
      "[[6 5 4 ... 7 9 8]]\n",
      "Dimensioni della matrice X: (256, 1707)\n",
      "Dimensioni del vettore I: (1, 1707)\n"
     ]
    }
   ],
   "source": [
    "\n",
    "dataset = scipy.io.loadmat('MNIST.mat')\n",
    "\n",
    "# Estrazione matrice X delle immagini e vettore I delle label\n",
    "\n",
    "X = dataset['X']\n",
    "I = dataset['I']\n",
    "\n",
    "print(X)\n",
    "print(I)\n",
    "\n",
    "print(\"Dimensioni della matrice X:\", X.shape)\n",
    "print(\"Dimensioni del vettore I:\", I.shape)\n",
    "\n",
    "\n"
   ]
  },
  {
   "cell_type": "markdown",
   "metadata": {},
   "source": [
    " - Visualize a bunch of datapoints of X with the function plt.imshow. <br>\n",
    "  -Extract from X those columns that corresponds to digits 3 or 4. Those digits represents the\n",
    "classes C1 and C2 defined above."
   ]
  },
  {
   "cell_type": "code",
   "execution_count": 28,
   "metadata": {},
   "outputs": [
    {
     "data": {
      "image/png": "[encoded data removed]",
      "text/plain": [
       "<Figure size 1440x360 with 10 Axes>"
      ]
     },
     "metadata": {
      "needs_background": "light"
     },
     "output_type": "display_data"
    }
   ],
   "source": [
    "plt.figure(figsize=(20, 5))\n",
    "for i in range(10):\n",
    "    plt.subplot(2,5,i+1)\n",
    "    # reshape the column vector in a matrix 16x16\n",
    "    image = X[:,i].reshape(16,16)\n",
    "    plt.imshow(image, cmap='gray')  \n",
    "    plt.title(f\"Label: {I[0][i]}\", fontsize=10)  \n",
    "    plt.axis('off')  \n",
    "\n",
    "plt.show()\n"
   ]
  },
  {
   "cell_type": "markdown",
   "metadata": {},
   "source": [
    "• Extract from X those columns that corresponds to digits 3 or 4. Those digits represents the classes C1 and C2 defined above."
   ]
  },
  {
   "cell_type": "code",
   "execution_count": 43,
   "metadata": {},
   "outputs": [
    {
     "name": "stdout",
     "output_type": "stream",
     "text": [
      "253\n",
      "[[0.     0.     0.     ... 0.     0.     0.    ]\n",
      " [0.     0.     0.     ... 0.     0.     0.    ]\n",
      " [0.     0.     0.     ... 0.     0.     0.    ]\n",
      " ...\n",
      " [0.     0.0585 0.     ... 0.     0.     0.    ]\n",
      " [0.     0.     0.     ... 0.     0.     0.    ]\n",
      " [0.     0.     0.     ... 0.     0.     0.    ]]\n",
      "(256, 253)\n",
      "[[4 3 3 4 4 4 3 4 3 4 3 4 4 4 3 4 3 3 3 4 4 4 3 3 4 3 4 4 3 4 4 4 4 4 3 3\n",
      "  4 4 3 3 4 4 4 3 3 3 4 4 4 4 4 3 3 3 4 4 3 4 3 4 4 3 4 3 4 3 3 4 4 3 4 3\n",
      "  3 3 3 4 3 3 3 4 3 4 3 3 3 3 3 3 4 3 3 4 3 3 3 3 4 3 3 3 3 3 4 4 3 4 3 4\n",
      "  3 4 3 4 3 3 4 4 4 4 3 3 4 3 4 3 4 3 3 4 3 4 4 3 4 3 4 4 4 4 4 3 4 4 3 4\n",
      "  4 4 3 4 3 4 4 4 3 4 3 4 4 3 4 4 4 4 4 4 4 4 4 4 3 4 4 4 3 4 4 3 4 4 4 4\n",
      "  4 4 4 3 4 3 3 4 4 3 3 3 3 3 3 3 4 3 3 3 3 4 4 3 3 3 3 4 3 4 4 3 3 3 3 4\n",
      "  3 3 3 4 3 3 3 3 3 3 3 4 3 4 4 3 3 3 3 3 4 4 3 3 3 3 4 3 3 3 4 3 3 3 4 3\n",
      "  3]]\n",
      "(1, 253)\n"
     ]
    }
   ],
   "source": [
    "dataset = scipy.io.loadmat('MNIST.mat')\n",
    "X = dataset['X']\n",
    "I = dataset['I']\n",
    "\n",
    "digits_cols = [i for i in range(X.shape[1]) if I[0][i] == 3 or I[0][i] == 4]\n",
    "print(len(digits_cols))\n",
    "X = X[:,digits_cols]\n",
    "print(X)\n",
    "print(X.shape)\n",
    "\n",
    "I = I[:,digits_cols]\n",
    "print(I)\n",
    "print(I.shape)\n",
    "\n",
    "        \n"
   ]
  },
  {
   "cell_type": "markdown",
   "metadata": {},
   "source": [
    "Split the obtained dataset in training and testing. From now on, we will only consider the training\n",
    "set. The test set will be only used at the end of the exercise to test the algorithm."
   ]
  },
  {
   "cell_type": "code",
   "execution_count": 38,
   "metadata": {},
   "outputs": [
    {
     "name": "stdout",
     "output_type": "stream",
     "text": [
      "(256, 202) (1, 202) (256, 51) (1, 51)\n"
     ]
    }
   ],
   "source": [
    "# I'm going to use a 80% of data in the dataset X for the train and 20% for the test.\n",
    "\n",
    "\n",
    "train_elements = int(X.shape[1] * 0.8)\n",
    "\n",
    "\n",
    "X_train = X[:,:train_elements]\n",
    "Y_train = I[:,:train_elements]\n",
    "\n",
    "X_test = X[:,train_elements:]\n",
    "Y_test = I[:,train_elements:]\n",
    "\n",
    "print(X_train.shape,Y_train.shape,X_test.shape,Y_test.shape)\n"
   ]
  },
  {
   "cell_type": "markdown",
   "metadata": {},
   "source": [
    "• Create the matrices X1 and X2 defined above from X."
   ]
  },
  {
   "cell_type": "code",
   "execution_count": 48,
   "metadata": {},
   "outputs": [
    {
     "name": "stdout",
     "output_type": "stream",
     "text": [
      "131\n",
      "122\n",
      "(256, 131) (256, 122)\n"
     ]
    }
   ],
   "source": [
    "class_c1 = [i for i in range(X.shape[1]) if I[0][i] == 3]\n",
    "class_c2 = [i for i in range(X.shape[1]) if I[0][i] == 4]\n",
    "print(len(class_c1))\n",
    "print(len(class_c2))\n",
    "\n",
    "X1 = X[:,class_c1]\n",
    "X2 = X[:,class_c2]\n",
    "\n",
    "print(X1.shape,X2.shape)\n",
    "\n",
    "\n",
    "\n"
   ]
  },
  {
   "cell_type": "markdown",
   "metadata": {},
   "source": [
    "• Compute the SVD decomposition of X1 and X2 with np.linalg.svd(matrix, full matrices=False) and denote the U-part of the two decompositions as U1 and U2."
   ]
  },
  {
   "cell_type": "code",
   "execution_count": 50,
   "metadata": {},
   "outputs": [],
   "source": [
    "U1, S1, VT1 = np.linalg.svd(X1, full_matrices=False)\n",
    "U2, S2, VT2 = np.linalg.svd(X2, full_matrices=False)\n"
   ]
  },
  {
   "cell_type": "markdown",
   "metadata": {},
   "source": [
    "• Take an unknown digit y from the test set, and compute y⊥1 = U1(UT1y) and y⊥2 = U2(UT2y)."
   ]
  },
  {
   "cell_type": "code",
   "execution_count": 111,
   "metadata": {},
   "outputs": [
    {
     "name": "stdout",
     "output_type": "stream",
     "text": [
      "8\n",
      "(256, 1)\n"
     ]
    }
   ],
   "source": [
    "# Find a random index and take the image of the correspondent index \n",
    "random_idx = random.randint(0,Y_test.shape[1] - 1)\n",
    "print(random_idx)\n",
    "# Take the correspondent image \n",
    "y = X_test[:,random_idx:random_idx+1]\n",
    "print(y.shape)\n",
    "\n",
    "\n",
    "# Calculate the orthogonal distances \n",
    "\n",
    "y_ort_1 = U1 @ (U1.T @ y)\n",
    "y_ort_2 = U2 @ (U2.T @ y)\n"
   ]
  },
  {
   "cell_type": "markdown",
   "metadata": {},
   "source": [
    "• Compute the distances d1 = ||y − y⊥1||2 and d2 = ||y − y⊥2||2 and classify y to C1 if d1 < d2 and to C2 if d2 < d1."
   ]
  },
  {
   "cell_type": "code",
   "execution_count": 112,
   "metadata": {},
   "outputs": [
    {
     "name": "stdout",
     "output_type": "stream",
     "text": [
      "Y is a 4!\n"
     ]
    }
   ],
   "source": [
    "d1 = np.linalg.norm(y-y_ort_1,2)\n",
    "d2 = np.linalg.norm(y-y_ort_2,2)\n",
    "\n",
    "if d1 < d2:\n",
    "    print(\"Y is a 3!\")\n",
    "else:\n",
    "    print(\"Y is a 4!\")"
   ]
  },
  {
   "cell_type": "markdown",
   "metadata": {},
   "source": [
    "Repeat the experiment for different values of y in the test set. Compute the misclassification number for this algorithm."
   ]
  },
  {
   "cell_type": "code",
   "execution_count": 114,
   "metadata": {},
   "outputs": [
    {
     "name": "stdout",
     "output_type": "stream",
     "text": [
      "4\n",
      "3\n",
      "3\n",
      "4\n",
      "4\n",
      "4\n",
      "3\n",
      "4\n",
      "3\n",
      "4\n",
      "3\n",
      "4\n",
      "4\n",
      "4\n",
      "3\n",
      "4\n",
      "3\n",
      "3\n",
      "3\n",
      "4\n",
      "4\n",
      "4\n",
      "3\n",
      "3\n",
      "4\n",
      "3\n",
      "4\n",
      "4\n",
      "3\n",
      "4\n",
      "4\n",
      "4\n",
      "4\n",
      "4\n",
      "3\n",
      "3\n",
      "4\n",
      "4\n",
      "3\n",
      "3\n",
      "4\n",
      "4\n",
      "4\n",
      "3\n",
      "3\n",
      "3\n",
      "4\n",
      "4\n",
      "4\n",
      "4\n",
      "4\n",
      "Number of experiment done: 51\n",
      "Number of misclassifications: 20\n"
     ]
    }
   ],
   "source": [
    "misclassification_count = 0\n",
    "\n",
    "for i in range(Y_test.shape[1]):\n",
    "\n",
    "    y = X_test[:,i:i+1]\n",
    "    print(I[0][i])\n",
    "    y_ort_1 = U1 @ (U1.T @ y)\n",
    "    y_ort_2 = U2 @ (U2.T @ y)\n",
    "\n",
    "    d1 = np.linalg.norm(y - y_ort_1, 2)\n",
    "    d2 = np.linalg.norm(y - y_ort_2, 2)\n",
    "\n",
    "    if d1 < d2:\n",
    "        classification = \"C3\"\n",
    "    else:\n",
    "        classification = \"C4\"\n",
    "\n",
    "    # Verify if the classification gone wrong \n",
    "    if I[0][i] == 3:\n",
    "        true_label = \"C3\" \n",
    "    else:\n",
    "        true_label = \"C4\"\n",
    "\n",
    "    if classification != true_label:\n",
    "        misclassification_count += 1\n",
    "\n",
    "# Print the number of misclassification\n",
    "print(f\"Number of experiment done: {Y_test.shape[1]}\")\n",
    "print(f\"Number of misclassifications: {misclassification_count}\")\n"
   ]
  },
  {
   "cell_type": "markdown",
   "metadata": {},
   "source": [
    "• Repeat the experiment for different digits other than 3 or 4. There is a relationship between the visual similarity of the digits and the classification error"
   ]
  },
  {
   "cell_type": "code",
   "execution_count": 134,
   "metadata": {},
   "outputs": [
    {
     "name": "stdout",
     "output_type": "stream",
     "text": [
      "5\n",
      "1\n",
      "1\n",
      "1\n",
      "1\n",
      "1\n",
      "1\n",
      "1\n",
      "5\n",
      "1\n",
      "1\n",
      "1\n",
      "1\n",
      "1\n",
      "5\n",
      "1\n",
      "1\n",
      "1\n",
      "1\n",
      "5\n",
      "1\n",
      "5\n",
      "5\n",
      "1\n",
      "1\n",
      "1\n",
      "1\n",
      "1\n",
      "5\n",
      "1\n",
      "1\n",
      "1\n",
      "1\n",
      "1\n",
      "1\n",
      "1\n",
      "1\n",
      "1\n",
      "1\n",
      "1\n",
      "1\n",
      "5\n",
      "5\n",
      "5\n",
      "1\n",
      "5\n",
      "1\n",
      "1\n",
      "1\n",
      "5\n",
      "1\n",
      "Number of experiment done: 51\n",
      "Numero di misclassificazioni: 12\n"
     ]
    }
   ],
   "source": [
    "dataset = scipy.io.loadmat('MNIST.mat')\n",
    "X = dataset['X']\n",
    "I = dataset['I']\n",
    "\n",
    "X1 = X[:, [i for i in range(X.shape[1]) if I[0][i] == 1]]\n",
    "X2 = X[:, [i for i in range(X.shape[1]) if I[0][i] == 7]]\n",
    "\n",
    "\n",
    "\n",
    "digits_cols = [i for i in range(X.shape[1]) if I[0][i] == 1 or I[0][i] == 5]\n",
    "\n",
    "I = I[:,digits_cols]\n",
    "\n",
    "U1, S1, VT1 = np.linalg.svd(X1, full_matrices=False)\n",
    "U2, S2, VT2 = np.linalg.svd(X2, full_matrices=False)\n",
    "\n",
    "misclassification_count = 0\n",
    "\n",
    "for i in range(Y_test.shape[1]):\n",
    "    y = X_test[:, i:i+1]  \n",
    "    print(I[0][i])\n",
    "\n",
    "    y_ort_1 = U1 @ (U1.T @ y)\n",
    "    y_ort_2 = U2 @ (U2.T @ y)\n",
    "\n",
    "    d1 = np.linalg.norm(y - y_ort_1, 2)\n",
    "    d2 = np.linalg.norm(y - y_ort_2, 2)\n",
    "\n",
    "    if d1 < d2:\n",
    "        classification = \"C1\"\n",
    "    else:\n",
    "        classification = \"C9\"\n",
    "\n",
    "    if I[0][i] == 1:\n",
    "        true_label = \"C1\" \n",
    "    else:\n",
    "        true_label = \"C9\"\n",
    "     \n",
    "\n",
    "    if classification != true_label:\n",
    "        misclassification_count += 1\n",
    "\n",
    "# Stampa il numero di misclassificazioni\n",
    "print(f\"Number of experiment done: {Y_test.shape[1]}\")\n",
    "print(f\"Numero di misclassificazioni: {misclassification_count}\")\n"
   ]
  },
  {
   "cell_type": "markdown",
   "metadata": {},
   "source": [
    "# CREA UNA CELL PER L'ESAME DOVE FAI METTERE IN INPUT I VALORI DELLE DIGIT E CALCOLA TUTTO LUI \n",
    "Tassi di misclassificazione: Inizia con l'analisi dei tassi di misclassificazione. Quanti casi sono stati classificati correttamente e quanti sono stati classificati erroneamente? Questi tassi ti daranno un'idea iniziale delle prestazioni del tuo algoritmo.\n",
    "\n",
    "Fattori di classificazione: Esamina i motivi delle misclassificazioni. Ad esempio, potresti scoprire che alcune immagini di un certo numero sono spesso confuse con un altro numero. Questo può fornire indicazioni sulla similitudine visiva tra i numeri coinvolti.\n",
    "\n",
    "Tassi di errore: Calcola il tasso di errore complessivo per il tuo algoritmo. Questo ti dirà quanto bene o quanto male sta funzionando l'approccio di classificazione.\n",
    "\n",
    "Influenza dei dati di addestramento: Considera come le dimensioni del tuo set di addestramento influenzano le prestazioni. Se hai un set di addestramento più grande, ottieni risultati migliori? Oppure, se hai un set di addestramento più piccolo, le prestazioni peggiorano?\n",
    "\n",
    "Influenza dei parametri: Se hai utilizzato parametri specifici nel tuo algoritmo di classificazione, come la scelta del numero di componenti principali nell'analisi SVD, esamina come questi parametri influenzano le prestazioni. Ci sono valori ottimali per questi parametri?\n",
    "\n",
    "Similitudine visiva: Valuta se ci sono delle somiglianze visive tra i numeri che influenzano le misclassificazioni. Ad esempio, i numeri 1 e 7 potrebbero essere scambiati più spesso perché hanno caratteristiche simili nella scrittura manuale.\n",
    "\n",
    "Potenziamento delle prestazioni: Se hai scoperto che il tuo algoritmo ha un alto tasso di errore o fa misclassificazioni comuni, considera come potresti migliorare le prestazioni. Questo potrebbe includere l'aggiunta di ulteriori caratteristiche, l'ottimizzazione dei parametri o l'utilizzo di un algoritmo di classificazione diverso.\n",
    "\n",
    "Conclusioni: Alla fine, trai delle conclusioni basate sui risultati che hai ottenuto. Cosa hai imparato dal tuo esperimento? Quali sono le sfide principali nella classificazione dei numeri? Come potresti migliorare ulteriormente il tuo approccio?\n",
    "\n",
    "In generale, il commento dei risultati è un passaggio essenziale per comprendere appieno l'efficacia del tuo algoritmo e per identificare le aree in cui è possibile apportare miglioramenti."
   ]
  },
  {
   "cell_type": "markdown",
   "metadata": {},
   "source": [
    "The extension of this idea to the multiple classification task is trivial. Indeed, if we have more than 2 classes (say, k different classes) C1, . . . , Ck, we just need to repeat the same procedure as before for each matrix X1, . . . , Xk to obtain the distances d1, . . . , dk. Then, the new digit y will be classified as Ci if di is lower that dj for each j = 1, . . . , k.\n",
    "Repeat the exercise above with a 3-digit example. Comment the differences."
   ]
  },
  {
   "cell_type": "code",
   "execution_count": null,
   "metadata": {},
   "outputs": [],
   "source": []
  }
 ],
 "metadata": {
  "kernelspec": {
   "display_name": "Python 3.8.5 ('base')",
   "language": "python",
   "name": "python3"
  },
  "language_info": {
   "codemirror_mode": {
    "name": "ipython",
    "version": 3
   },
   "file_extension": ".py",
   "mimetype": "text/x-python",
   "name": "python",
   "nbconvert_exporter": "python",
   "pygments_lexer": "ipython3",
   "version": "3.8.5"
  },
  "orig_nbformat": 4,
  "vscode": {
   "interpreter": {
    "hash": "d4485451d304caa8f4c9dd363991b164c5fe2ca05e2672d978ba2d9ef4990cd2"
   }
  }
 },
 "nbformat": 4,
 "nbformat_minor": 2
}

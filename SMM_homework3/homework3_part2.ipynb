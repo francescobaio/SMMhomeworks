{
 "cells": [
  {
   "cell_type": "code",
   "execution_count": 3,
   "metadata": {},
   "outputs": [
    {
     "data": {
      "text/html": [
       "<div style=\"text-align: center;\"><img src=\"homework3_part2_images/expl_home3.png\"></div>"
      ],
      "text/plain": [
       "<IPython.core.display.HTML object>"
      ]
     },
     "execution_count": 3,
     "metadata": {},
     "output_type": "execute_result"
    }
   ],
   "source": [
    "from IPython.display import HTML\n",
    "file_path = 'homework3_part2_images/expl_home3.png'\n",
    "html_code = f'<div style=\"text-align: center;\"><img src=\"{file_path}\"></div>'\n",
    "HTML(html_code)"
   ]
  },
  {
   "cell_type": "code",
   "execution_count": 4,
   "metadata": {},
   "outputs": [],
   "source": [
    "import numpy as np\n",
    "import scipy.io\n",
    "import matplotlib.pyplot as plt\n",
    "\n",
    "\n",
    "# LETS IMPLEMENT ALSO SGD WITH momentum,adam ecc\n"
   ]
  },
  {
   "cell_type": "code",
   "execution_count": 64,
   "metadata": {},
   "outputs": [],
   "source": [
    "def sgd_optimizer(loss, grad_loss, w0, D, alpha, batch_size, n_epochs):\n",
    "    X, y = D  # Unpack the data\n",
    "    N = X.shape[1]\n",
    "    d = w0.shape[1]\n",
    "    idx = np.arange(0, N)\n",
    "    \n",
    "    # Initialization of history vectors\n",
    "    w_history = np.zeros((n_epochs, d))  # Save weights at each iteration\n",
    "    loss_history = np.zeros((n_epochs, ))  # Save loss values at each iteration\n",
    "    grad_norm_history = np.zeros((n_epochs, ))  # Save gradient norms at each iteration\n",
    "    \n",
    "    # Initialize weights\n",
    "    w = w0\n",
    "    for epoch in range(n_epochs):\n",
    "        # Shuffle the data at the beginning of each epoch\n",
    "        np.random.shuffle(idx)\n",
    "        X = X[:,idx]\n",
    "        y = y[idx,:]\n",
    "    \n",
    "        # Initialize a vector that saves the gradient of the loss at each iteration\n",
    "        grad_loss_vec = []\n",
    "    \n",
    "        for batch_start in range(0, N, batch_size):\n",
    "            batch_end = min(batch_start + batch_size, N)\n",
    "            X_batch = X[:,batch_start:batch_end]\n",
    "            y_batch = y[:,batch_start:batch_end]\n",
    "\n",
    "           # Compute the gradient of the loss\",\n",
    "            gradient = grad_loss(w, X_batch, y_batch)\n",
    "            grad_loss_vec.append(np.linalg.norm(gradient, 2))\n",
    "\n",
    "            # Update weights\",\n",
    "            w = w - alpha *  gradient\n",
    "    \n",
    "            # Save the updated values\"\n",
    "            w_history[epoch] = w\n",
    "            loss_history[epoch] = loss(w, X, y)\n",
    "            grad_norm_history[epoch] = np.mean(grad_loss_vec)\n",
    "\n",
    "    return w_history, loss_history, grad_norm_history\n",
    "\n",
    "  "
   ]
  },
  {
   "cell_type": "code",
   "execution_count": null,
   "metadata": {},
   "outputs": [],
   "source": [
    "def SGD(l,grad_l,w0,data,alpha,batch_size,n_epochs):\n",
    "    X,y = data\n",
    "    N = X.shape[1]\n",
    "    w = w0\n",
    "    for epoch in range(n_epochs):\n",
    "        # randomize the datas\n",
    "        indices = np.random.permutation(y.shape[1])\n",
    "        x_new = X[indices]\n",
    "        y_new = y[indices]\n",
    "\n",
    "        for i in range(0,N,batch_size):\n",
    "            x_new = X[:,i:i+batch_size]\n",
    "            y_new = y[:,i:i+batch_size]\n",
    "            w = w - alpha * grad_l()\n",
    "\n",
    "\n",
    "            \n",
    "\n",
    "\n",
    "\n"
   ]
  },
  {
   "cell_type": "code",
   "execution_count": 67,
   "metadata": {},
   "outputs": [
    {
     "name": "stdout",
     "output_type": "stream",
     "text": [
      "Shape of X (images): (256, 1707)\n",
      "Shape of I (labels): (1, 1707)\n"
     ]
    }
   ],
   "source": [
    "dataset = scipy.io.loadmat('MNIST.mat')\n",
    "X = dataset['X']\n",
    "I = dataset['I']\n",
    "print(\"Shape of X (images):\", X.shape)\n",
    "print(\"Shape of I (labels):\", I.shape)"
   ]
  },
  {
   "cell_type": "code",
   "execution_count": 68,
   "metadata": {},
   "outputs": [
    {
     "data": {
      "image/png": "[encoded data removed]",
      "text/plain": [
       "<Figure size 720x576 with 20 Axes>"
      ]
     },
     "metadata": {
      "needs_background": "light"
     },
     "output_type": "display_data"
    }
   ],
   "source": [
    "fig, axes = plt.subplots(4, 5, figsize=(10, 8))\n",
    "axes = axes.flatten()\n",
    "for i in range(20):\n",
    "    img = X[:, i].reshape(16,16)\n",
    "    ax = axes[i]\n",
    "    ax.imshow(img, cmap='gray')\n",
    "    ax.axis('off')\n",
    "\n",
    "plt.tight_layout()\n",
    "plt.show()"
   ]
  },
  {
   "cell_type": "code",
   "execution_count": 69,
   "metadata": {},
   "outputs": [
    {
     "name": "stdout",
     "output_type": "stream",
     "text": [
      "(256, 210) (1, 210)\n"
     ]
    }
   ],
   "source": [
    "digit1 = int(input('Enter the first digit to select :'))\n",
    "digit2 = int(input('Enter the second digit to select :'))\n",
    "digits_cols = [i for i in range(X.shape[1]) if I[0][i] == digit1 or I[0][i] == digit2]\n",
    "X = X[:,digits_cols]\n",
    "I = I[:,digits_cols]\n",
    "print(X.shape,I.shape)"
   ]
  },
  {
   "cell_type": "code",
   "execution_count": 70,
   "metadata": {},
   "outputs": [
    {
     "data": {
      "image/png": "[encoded data removed]",
      "text/plain": [
       "<Figure size 720x576 with 20 Axes>"
      ]
     },
     "metadata": {
      "needs_background": "light"
     },
     "output_type": "display_data"
    }
   ],
   "source": [
    "fig, axes = plt.subplots(4, 5, figsize=(10, 8))\n",
    "axes = axes.flatten()\n",
    "for i in range(20):\n",
    "    img = X[:, i].reshape(16,16)\n",
    "    ax = axes[i]\n",
    "    ax.imshow(img, cmap='gray')\n",
    "    ax.axis('off')\n",
    "\n",
    "plt.tight_layout()\n",
    "plt.show()"
   ]
  },
  {
   "cell_type": "code",
   "execution_count": 72,
   "metadata": {},
   "outputs": [
    {
     "name": "stdout",
     "output_type": "stream",
     "text": [
      "(256, 168) (1, 168) (256, 42) (1, 42)\n"
     ]
    }
   ],
   "source": [
    "# I'm going to use a 80% of data in the dataset X for the train and 20% for the test.\n",
    "\n",
    "train_elements = int(X.shape[1] * 0.8)\n",
    "\n",
    "\n",
    "X_train = X[:,:train_elements]\n",
    "Y_train = I[:,:train_elements]\n",
    "\n",
    "X_test = X[:,train_elements:]\n",
    "Y_test = I[:,train_elements:]\n",
    "\n",
    "print(X_train.shape,Y_train.shape,X_test.shape,Y_test.shape)"
   ]
  },
  {
   "cell_type": "code",
   "execution_count": 73,
   "metadata": {},
   "outputs": [],
   "source": [
    "#Define the Sigmoid Function\n",
    "def sigmoid(z):\n",
    "    return 1 / (1+np.exp(-z))\n",
    "\n",
    "# Compute the value of f\n",
    "def f(w, X):\n",
    "    return sigmoid(np.dot(w.T, X))\n",
    "\n",
    "\n",
    "#Define the loss Function\n",
    "def loss_mse(w,X,Y):\n",
    "    N = X.shape[1]\n",
    "    y_pred = f(w,X)\n",
    "    loss = (1/2*N) * np.sum((y_pred - Y) ** 2)\n",
    "    return loss\n",
    "\n",
    "#Define the gradient of the loss function \n",
    "def grad_loss_mse(w,X,Y):\n",
    "    N = X.shape[1]\n",
    "    y_pred = sigmoid(np.dot(w.T,X))\n",
    "    sigma_prime = y_pred * (1 - y_pred)\n",
    "    #sum is done in .dot\n",
    "    gradient = (1/N) * np.dot(X, sigma_prime * (y_pred - Y).T)\n",
    "    return gradient\n"
   ]
  },
  {
   "cell_type": "code",
   "execution_count": 75,
   "metadata": {},
   "outputs": [
    {
     "ename": "IndexError",
     "evalue": "index 172 is out of bounds for axis 0 with size 1",
     "output_type": "error",
     "traceback": [
      "\u001b[0;31m---------------------------------------------------------------------------\u001b[0m",
      "\u001b[0;31mIndexError\u001b[0m                                Traceback (most recent call last)",
      "\u001b[0;32m<ipython-input-75-e44a8ff31c62>\u001b[0m in \u001b[0;36m<module>\u001b[0;34m\u001b[0m\n\u001b[1;32m      9\u001b[0m \u001b[0mn_epochs\u001b[0m \u001b[0;34m=\u001b[0m \u001b[0;36m100\u001b[0m\u001b[0;34m\u001b[0m\u001b[0;34m\u001b[0m\u001b[0m\n\u001b[1;32m     10\u001b[0m \u001b[0mD\u001b[0m \u001b[0;34m=\u001b[0m \u001b[0;34m(\u001b[0m\u001b[0mX_bias\u001b[0m\u001b[0;34m,\u001b[0m \u001b[0mI\u001b[0m\u001b[0;34m)\u001b[0m\u001b[0;34m\u001b[0m\u001b[0;34m\u001b[0m\u001b[0m\n\u001b[0;32m---> 11\u001b[0;31m \u001b[0mw_history\u001b[0m\u001b[0;34m,\u001b[0m \u001b[0mloss_history\u001b[0m\u001b[0;34m,\u001b[0m \u001b[0mgrad_norm_history\u001b[0m \u001b[0;34m=\u001b[0m \u001b[0msgd_optimizer\u001b[0m\u001b[0;34m(\u001b[0m\u001b[0mloss_mse\u001b[0m\u001b[0;34m,\u001b[0m \u001b[0mgrad_loss_mse\u001b[0m\u001b[0;34m,\u001b[0m \u001b[0mw0\u001b[0m\u001b[0;34m,\u001b[0m \u001b[0mD\u001b[0m\u001b[0;34m,\u001b[0m \u001b[0malpha\u001b[0m\u001b[0;34m,\u001b[0m \u001b[0mbatch_size\u001b[0m\u001b[0;34m,\u001b[0m \u001b[0mn_epochs\u001b[0m\u001b[0;34m)\u001b[0m\u001b[0;34m\u001b[0m\u001b[0;34m\u001b[0m\u001b[0m\n\u001b[0m",
      "\u001b[0;32m<ipython-input-64-1f95b40ccddc>\u001b[0m in \u001b[0;36msgd_optimizer\u001b[0;34m(loss, grad_loss, w0, D, alpha, batch_size, n_epochs)\u001b[0m\n\u001b[1;32m     16\u001b[0m         \u001b[0mnp\u001b[0m\u001b[0;34m.\u001b[0m\u001b[0mrandom\u001b[0m\u001b[0;34m.\u001b[0m\u001b[0mshuffle\u001b[0m\u001b[0;34m(\u001b[0m\u001b[0midx\u001b[0m\u001b[0;34m)\u001b[0m\u001b[0;34m\u001b[0m\u001b[0;34m\u001b[0m\u001b[0m\n\u001b[1;32m     17\u001b[0m         \u001b[0mX\u001b[0m \u001b[0;34m=\u001b[0m \u001b[0mX\u001b[0m\u001b[0;34m[\u001b[0m\u001b[0;34m:\u001b[0m\u001b[0;34m,\u001b[0m\u001b[0midx\u001b[0m\u001b[0;34m]\u001b[0m\u001b[0;34m\u001b[0m\u001b[0;34m\u001b[0m\u001b[0m\n\u001b[0;32m---> 18\u001b[0;31m         \u001b[0my\u001b[0m \u001b[0;34m=\u001b[0m \u001b[0my\u001b[0m\u001b[0;34m[\u001b[0m\u001b[0midx\u001b[0m\u001b[0;34m,\u001b[0m\u001b[0;34m:\u001b[0m\u001b[0;34m]\u001b[0m\u001b[0;34m\u001b[0m\u001b[0;34m\u001b[0m\u001b[0m\n\u001b[0m\u001b[1;32m     19\u001b[0m \u001b[0;34m\u001b[0m\u001b[0m\n\u001b[1;32m     20\u001b[0m         \u001b[0;31m# Initialize a vector that saves the gradient of the loss at each iteration\u001b[0m\u001b[0;34m\u001b[0m\u001b[0;34m\u001b[0m\u001b[0;34m\u001b[0m\u001b[0m\n",
      "\u001b[0;31mIndexError\u001b[0m: index 172 is out of bounds for axis 0 with size 1"
     ]
    }
   ],
   "source": [
    "#Prepare the Data:\n",
    "bias = np.ones((X.shape[0], 1))\n",
    "X_bias = np.hstack((bias,X))\n",
    "#Initialize the Weights:\n",
    "w0 = np.zeros((X.shape[0],1))\n",
    "#Training Loop\n",
    "alpha = 0.01  # Learning rate\n",
    "batch_size = 64\n",
    "n_epochs = 100\n",
    "D = (X_bias, I)\n",
    "w_history, loss_history, grad_norm_history = sgd_optimizer(loss_mse, grad_loss_mse, w0, D, alpha, batch_size, n_epochs)\n"
   ]
  }
 ],
 "metadata": {
  "kernelspec": {
   "display_name": "Python 3.8.5 ('base')",
   "language": "python",
   "name": "python3"
  },
  "language_info": {
   "codemirror_mode": {
    "name": "ipython",
    "version": 3
   },
   "file_extension": ".py",
   "mimetype": "text/x-python",
   "name": "python",
   "nbconvert_exporter": "python",
   "pygments_lexer": "ipython3",
   "version": "3.8.5"
  },
  "orig_nbformat": 4,
  "vscode": {
   "interpreter": {
    "hash": "d4485451d304caa8f4c9dd363991b164c5fe2ca05e2672d978ba2d9ef4990cd2"
   }
  }
 },
 "nbformat": 4,
 "nbformat_minor": 2
}

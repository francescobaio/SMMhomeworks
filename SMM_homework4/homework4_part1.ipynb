{
 "cells": [
  {
   "cell_type": "code",
   "execution_count": 8,
   "metadata": {},
   "outputs": [],
   "source": [
    "import numpy as np"
   ]
  },
  {
   "cell_type": "code",
   "execution_count": 9,
   "metadata": {},
   "outputs": [
    {
     "name": "stdout",
     "output_type": "stream",
     "text": [
      "Generated test dataset:\n",
      "X: [ 0.          0.20408163  0.40816327  0.6122449   0.81632653  1.02040816\n",
      "  1.2244898   1.42857143  1.63265306  1.83673469  2.04081633  2.24489796\n",
      "  2.44897959  2.65306122  2.85714286  3.06122449  3.26530612  3.46938776\n",
      "  3.67346939  3.87755102  4.08163265  4.28571429  4.48979592  4.69387755\n",
      "  4.89795918  5.10204082  5.30612245  5.51020408  5.71428571  5.91836735\n",
      "  6.12244898  6.32653061  6.53061224  6.73469388  6.93877551  7.14285714\n",
      "  7.34693878  7.55102041  7.75510204  7.95918367  8.16326531  8.36734694\n",
      "  8.57142857  8.7755102   8.97959184  9.18367347  9.3877551   9.59183673\n",
      "  9.79591837 10.        ]\n",
      "Y: [4.77606971e-01 1.14891887e+00 2.13903769e+00 3.10713980e+00\n",
      " 3.09556625e+00 4.14729387e+00 6.36054347e+00 7.28868903e+00\n",
      " 9.31812967e+00 1.22903348e+01 1.57152747e+01 2.09184563e+01\n",
      " 2.38602788e+01 2.95716011e+01 3.43513510e+01 4.17395532e+01\n",
      " 5.04944389e+01 5.73344076e+01 6.73821493e+01 7.84827358e+01\n",
      " 9.00084689e+01 1.02687378e+02 1.16306710e+02 1.30191902e+02\n",
      " 1.47385592e+02 1.64088780e+02 1.84224192e+02 2.02997288e+02\n",
      " 2.25771667e+02 2.50109997e+02 2.73552965e+02 2.99964768e+02\n",
      " 3.28447166e+02 3.57811521e+02 3.89452048e+02 4.21538563e+02\n",
      " 4.59575602e+02 4.96206465e+02 5.36333182e+02 5.76753712e+02\n",
      " 6.19667514e+02 6.65171435e+02 7.12795619e+02 7.62684064e+02\n",
      " 8.16120192e+02 8.69605553e+02 9.26279849e+02 9.85810615e+02\n",
      " 1.04624125e+03 1.11177096e+03]\n"
     ]
    }
   ],
   "source": [
    "K = int(input(\"Enter the degree of the polynomial K: \"))\n",
    "while True:\n",
    "    a = float(input(\"Enter the start of the range a: \"))\n",
    "    b = float(input(\"Enter the end of the range b: \"))\n",
    "    if a < b:\n",
    "        break\n",
    "    else:\n",
    "        print(\"The start of the range must be less than the end of the range. Please try again.\")\n",
    "\n",
    "N = int(input(\"Enter the number of data points N: \"))\n",
    "\n",
    "X = np.linspace(a, b, N)\n",
    "\n",
    "theta_true = np.ones((K+1,))\n",
    "\n",
    "def poly(x,theta):\n",
    "    y = 0\n",
    "    for i in range(len(theta_true)):\n",
    "         y += theta[i] * x**i \n",
    "    return y\n",
    "\n",
    "sigma = float(input(\"Enter the variance of the Gaussian noise sigma^2: \"))\n",
    "Y = poly(X, theta_true) + np.random.normal(0, np.sqrt(sigma), N)\n",
    "print(\"Generated test dataset:\")\n",
    "print(\"X:\", X)\n",
    "print(\"Y:\", Y)"
   ]
  },
  {
   "cell_type": "code",
   "execution_count": 10,
   "metadata": {},
   "outputs": [
    {
     "name": "stdout",
     "output_type": "stream",
     "text": [
      "[1.1485837  1.03575633 0.95198082 1.00505549]\n"
     ]
    }
   ],
   "source": [
    "import numpy as np\n",
    "\n",
    "def compute_vandermonde_matrix(X, K):\n",
    "    \"\"\"Compute the Vandermonde matrix for the input data and a given polynomial degree.\"\"\"\n",
    "    return np.vander(X, K+1, increasing=True)\n",
    "\n",
    "def maximum_likelihood_estimation(X, Y, K):\n",
    "    \"\"\"Compute the MLE for a polynomial regression model of degree K.\"\"\"\n",
    "    # Compute the Vandermonde matrix for the transformed features\n",
    "    vander_X = compute_vandermonde_matrix(X, K)\n",
    "    \n",
    "    # Compute the MLE estimate using the normal equation\n",
    "    # theta_MLE = (X^T * X)^(-1) * X^T * Y\n",
    "    theta_MLE = np.linalg.inv(vander_X.T.dot(vander_X)).dot(vander_X.T).dot(Y)\n",
    "    \n",
    "    return theta_MLE\n",
    "\n",
    "\n",
    "theta_MLE = maximum_likelihood_estimation(X, Y, K)\n",
    "print(theta_MLE)"
   ]
  },
  {
   "cell_type": "code",
   "execution_count": 11,
   "metadata": {},
   "outputs": [
    {
     "name": "stdout",
     "output_type": "stream",
     "text": [
      "The Mean Absolute Error of the model is: 0.47833193930800716\n"
     ]
    },
    {
     "data": {
      "image/png": "[encoded data removed]",
      "text/plain": [
       "<Figure size 432x288 with 1 Axes>"
      ]
     },
     "metadata": {
      "needs_background": "light"
     },
     "output_type": "display_data"
    }
   ],
   "source": [
    "import matplotlib.pyplot as plt\n",
    "\n",
    "def evaluate_model(X, Y, theta):\n",
    "    \"\"\"Evaluate the model using Mean Absolute Error.\"\"\"\n",
    "    predictions = compute_vandermonde_matrix(X, len(theta)-1).dot(theta)\n",
    "    return np.mean(np.abs(predictions - Y))\n",
    "\n",
    "def plot_model(X, Y, theta):\n",
    "    \"\"\"Plot the model against the data.\"\"\"\n",
    "    plt.scatter(X, Y, color='red', label='Data Points')\n",
    "    X_plot = np.linspace(min(X), max(X), 1000)  # finer grid for a smoother curve\n",
    "    Y_plot = compute_vandermonde_matrix(X_plot, len(theta)-1).dot(theta)\n",
    "    plt.plot(X_plot, Y_plot, color='blue', label='MLE Model')\n",
    "    plt.legend()\n",
    "    plt.xlabel('X')\n",
    "    plt.ylabel('Y')\n",
    "    plt.title('Polynomial Regression Model')\n",
    "    plt.show()\n",
    "\n",
    "# Evaluate the model\n",
    "error = evaluate_model(X, Y, theta_MLE)\n",
    "print(f\"The Mean Absolute Error of the model is: {error}\")\n",
    "\n",
    "# Plot the model\n",
    "plot_model(X, Y, theta_MLE)\n"
   ]
  }
 ],
 "metadata": {
  "kernelspec": {
   "display_name": "Python 3.8.5 ('base')",
   "language": "python",
   "name": "python3"
  },
  "language_info": {
   "codemirror_mode": {
    "name": "ipython",
    "version": 3
   },
   "file_extension": ".py",
   "mimetype": "text/x-python",
   "name": "python",
   "nbconvert_exporter": "python",
   "pygments_lexer": "ipython3",
   "version": "3.8.5"
  },
  "orig_nbformat": 4,
  "vscode": {
   "interpreter": {
    "hash": "d4485451d304caa8f4c9dd363991b164c5fe2ca05e2672d978ba2d9ef4990cd2"
   }
  }
 },
 "nbformat": 4,
 "nbformat_minor": 2
}

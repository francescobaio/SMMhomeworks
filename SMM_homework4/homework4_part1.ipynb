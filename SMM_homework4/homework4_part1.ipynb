{
 "cells": [
  {
   "cell_type": "code",
   "execution_count": 2,
   "metadata": {},
   "outputs": [
    {
     "data": {
      "text/html": [
       "<div style=\"text-align: center;\"><img src=\"images/mle_map.png\"></div>"
      ],
      "text/plain": [
       "<IPython.core.display.HTML object>"
      ]
     },
     "execution_count": 2,
     "metadata": {},
     "output_type": "execute_result"
    }
   ],
   "source": [
    "from IPython.display import HTML\n",
    "file_path = 'images/mle_map.png'\n",
    "html_code = f'<div style=\"text-align: center;\"><img src=\"{file_path}\"></div>'\n",
    "HTML(html_code)"
   ]
  },
  {
   "cell_type": "code",
   "execution_count": 4,
   "metadata": {},
   "outputs": [
    {
     "data": {
      "text/html": [
       "<div style=\"text-align: center;\"><img src=\"images/mle_map2.png\"></div>"
      ],
      "text/plain": [
       "<IPython.core.display.HTML object>"
      ]
     },
     "execution_count": 4,
     "metadata": {},
     "output_type": "execute_result"
    }
   ],
   "source": [
    "from IPython.display import HTML\n",
    "file_path = 'images/mle_map2.png'\n",
    "html_code = f'<div style=\"text-align: center;\"><img src=\"{file_path}\"></div>'\n",
    "HTML(html_code)"
   ]
  },
  {
   "cell_type": "code",
   "execution_count": 5,
   "metadata": {},
   "outputs": [
    {
     "data": {
      "text/html": [
       "<div style=\"text-align: center;\"><img src=\"images/text.png\"></div>"
      ],
      "text/plain": [
       "<IPython.core.display.HTML object>"
      ]
     },
     "execution_count": 5,
     "metadata": {},
     "output_type": "execute_result"
    }
   ],
   "source": [
    "from IPython.display import HTML\n",
    "file_path = 'images/text.png'\n",
    "html_code = f'<div style=\"text-align: center;\"><img src=\"{file_path}\"></div>'\n",
    "HTML(html_code)"
   ]
  },
  {
   "cell_type": "code",
   "execution_count": 8,
   "metadata": {},
   "outputs": [],
   "source": [
    "import numpy as np"
   ]
  },
  {
   "cell_type": "code",
   "execution_count": 13,
   "metadata": {},
   "outputs": [
    {
     "name": "stdout",
     "output_type": "stream",
     "text": [
      "Generated test dataset for variance 1.0:\n",
      "X: [ 0.          0.1010101   0.2020202   0.3030303   0.4040404   0.50505051\n",
      "  0.60606061  0.70707071  0.80808081  0.90909091  1.01010101  1.11111111\n",
      "  1.21212121  1.31313131  1.41414141  1.51515152  1.61616162  1.71717172\n",
      "  1.81818182  1.91919192  2.02020202  2.12121212  2.22222222  2.32323232\n",
      "  2.42424242  2.52525253  2.62626263  2.72727273  2.82828283  2.92929293\n",
      "  3.03030303  3.13131313  3.23232323  3.33333333  3.43434343  3.53535354\n",
      "  3.63636364  3.73737374  3.83838384  3.93939394  4.04040404  4.14141414\n",
      "  4.24242424  4.34343434  4.44444444  4.54545455  4.64646465  4.74747475\n",
      "  4.84848485  4.94949495  5.05050505  5.15151515  5.25252525  5.35353535\n",
      "  5.45454545  5.55555556  5.65656566  5.75757576  5.85858586  5.95959596\n",
      "  6.06060606  6.16161616  6.26262626  6.36363636  6.46464646  6.56565657\n",
      "  6.66666667  6.76767677  6.86868687  6.96969697  7.07070707  7.17171717\n",
      "  7.27272727  7.37373737  7.47474747  7.57575758  7.67676768  7.77777778\n",
      "  7.87878788  7.97979798  8.08080808  8.18181818  8.28282828  8.38383838\n",
      "  8.48484848  8.58585859  8.68686869  8.78787879  8.88888889  8.98989899\n",
      "  9.09090909  9.19191919  9.29292929  9.39393939  9.49494949  9.5959596\n",
      "  9.6969697   9.7979798   9.8989899  10.        ]\n",
      "Y: [  1.30860687   2.56624277   2.0064008    1.61693636   1.66084762\n",
      "   2.88616615   0.91158135   3.28493613   1.31412385   3.33878656\n",
      "   2.51801557   2.36695066   3.29473523   3.27710809   5.19931327\n",
      "   5.49874796   4.5059557    6.07822089   5.53459692   6.6760222\n",
      "   8.1345117    6.9386535    7.56154297   9.7173545    7.5382974\n",
      "   8.96404164   9.38597543  11.01839663   9.65783665  13.40600034\n",
      "  13.82208352  14.23868299  14.75614353  15.22108387  16.70889983\n",
      "  15.05506919  18.61278561  15.75582462  19.02212697  19.60046271\n",
      "  22.96375271  20.81901175  22.45323979  23.97277948  25.10905971\n",
      "  25.81684493  28.04331018  29.21793228  27.26426299  30.32407346\n",
      "  32.19861966  34.52650012  32.83214564  34.36060345  35.75438369\n",
      "  37.64160461  38.78157384  38.42758893  40.39324314  43.18461218\n",
      "  45.1124472   46.46185479  47.9649563   48.47599224  49.82570288\n",
      "  51.487512    50.91513084  53.85151424  54.52672354  56.77099021\n",
      "  58.54535829  59.61678992  60.45313098  63.01141621  66.43002508\n",
      "  66.67486347  68.85052219  69.25584245  70.40541275  73.43613472\n",
      "  74.29746591  76.34255314  76.58067924  79.49875152  80.07178245\n",
      "  83.63585327  83.97545223  85.47564719  88.49542566  90.86143799\n",
      "  92.22680803  95.30901689  96.18520609  98.24084117  99.20887004\n",
      " 101.6909818  104.90169355 107.63504528 110.26603077 110.97765987]\n"
     ]
    }
   ],
   "source": [
    "K = int(input(\"Enter the degree of the polynomial K: \"))\n",
    "while True:\n",
    "    a = float(input(\"Enter the start of the range a: \"))\n",
    "    b = float(input(\"Enter the end of the range b: \"))\n",
    "    if a < b:\n",
    "        break\n",
    "    else:\n",
    "        print(\"The start of the range must be less than the end of the range. Please try again.\")\n",
    "\n",
    "N = int(input(\"Enter the number of data points N: \"))\n",
    "\n",
    "X = np.linspace(a, b, N)\n",
    "\n",
    "theta_true = np.ones((K+1,))\n",
    "\n",
    "def poly(x,theta):\n",
    "    y = 0\n",
    "    for i in range(len(theta_true)):\n",
    "         y += theta[i] * x**i \n",
    "    return y\n",
    "\n",
    "sigma = float(input(\"Enter the variance of the Gaussian noise sigma^2: \"))\n",
    "Y = poly(X, theta_true) + np.random.normal(0, np.sqrt(sigma), N)\n",
    "print(f\"Generated test dataset for variance {sigma}:\")\n",
    "print(\"X:\", X)\n",
    "print(\"Y:\", Y)\n",
    "\n",
    "# Grado del Polinomio (K): 2\n",
    "# Intervallo (a, b): 0, 10\n",
    "# Numero di Punti Dati (N): 100\n",
    "# Varianza del Rumore (sigma^2): 1"
   ]
  },
  {
   "cell_type": "code",
   "execution_count": 18,
   "metadata": {},
   "outputs": [
    {
     "name": "stdout",
     "output_type": "stream",
     "text": [
      "Shape of X: (100,)\n",
      "Shape of Phi_X (Vandermonde Matrix): (100, 3)\n",
      "Shape of theta_true: (3,)\n",
      "Shape of Y: (100,)\n"
     ]
    }
   ],
   "source": [
    "import numpy as np\n",
    "\n",
    "X = np.linspace(a, b, N) \n",
    "#K = ...  # Grado del polinomio\n",
    "theta_true = np.ones(K+1)  \n",
    "Phi_X = np.vander(X, K+1, increasing=True)\n",
    "Y = Phi_X @ theta_true\n",
    "D = (X, Y)\n",
    "\n",
    "print(f\"Shape of X: {X.shape}\")\n",
    "print(f\"Shape of Phi_X (Vandermonde Matrix): {Phi_X.shape}\")\n",
    "print(f\"Shape of theta_true: {theta_true.shape}\")\n",
    "print(f\"Shape of Y: {Y.shape}\")"
   ]
  },
  {
   "cell_type": "code",
   "execution_count": 19,
   "metadata": {},
   "outputs": [
    {
     "name": "stdout",
     "output_type": "stream",
     "text": [
      "Coefficients MLE: [ 0.11760769  0.06561412 -0.00576603 -0.00071585]\n"
     ]
    }
   ],
   "source": [
    "import numpy as np\n",
    "\n",
    "def compute_MLE(X, Y, K):\n",
    "    # Calcola la matrice di Vandermonde per X\n",
    "    Phi_X = np.vander(X, K+1, increasing=True)\n",
    "\n",
    "    # Calcola la soluzione MLE usando le equazioni normali\n",
    "    # θ_MLE = (Phi_X^T * Phi_X)^(-1) * Phi_X^T * Y\n",
    "    theta_MLE = np.linalg.pinv(Phi_X.T @ Phi_X) @ Phi_X.T @ Y\n",
    "\n",
    "    return theta_MLE\n",
    "\n",
    "# Esempio di utilizzo della funzione\n",
    "K = 3  # Grado del polinomio\n",
    "X = np.linspace(0, 10, 100)  # Valori di X\n",
    "Y = np.random.randn(100)  # Valori di Y (esempio casuale)\n",
    "\n",
    "theta_MLE = compute_MLE(X, Y, K)\n",
    "print(\"Coefficients MLE:\", theta_MLE)\n"
   ]
  },
  {
   "cell_type": "code",
   "execution_count": 20,
   "metadata": {},
   "outputs": [
    {
     "name": "stderr",
     "output_type": "stream",
     "text": [
      "<ipython-input-20-75b48f22d183>:35: RuntimeWarning: overflow encountered in matmul\n",
      "  error = (Phi_X_shuffled[i] @ theta) - Y_shuffled[i]\n",
      "<ipython-input-20-75b48f22d183>:38: RuntimeWarning: invalid value encountered in subtract\n",
      "  theta -= learning_rate * error * Phi_X_shuffled[i]\n"
     ]
    },
    {
     "name": "stdout",
     "output_type": "stream",
     "text": [
      "Coefficients MLE (SGD): [nan nan nan nan]\n"
     ]
    }
   ],
   "source": [
    "import numpy as np\n",
    "\n",
    "def compute_SGD(X, Y, K, epochs, learning_rate):\n",
    "    # Calcola la matrice di Vandermonde per X\n",
    "    Phi_X = np.vander(X, K+1, increasing=True)\n",
    "\n",
    "    # Inizializza i parametri (theta) a zero\n",
    "    theta = np.zeros(K+1)\n",
    "\n",
    "    # Numero di esempi di addestramento\n",
    "    n = len(Y)\n",
    "\n",
    "    # Loop di addestramento\n",
    "    for _ in range(epochs):\n",
    "        # Mescola il dataset\n",
    "        indices = np.random.permutation(n)\n",
    "        Phi_X_shuffled = Phi_X[indices]\n",
    "        Y_shuffled = Y[indices]\n",
    "\n",
    "        for i in range(n):\n",
    "            # Calcola l'errore\n",
    "            error = (Phi_X_shuffled[i] @ theta) - Y_shuffled[i]\n",
    "\n",
    "            # Aggiorna theta\n",
    "            theta -= learning_rate * error * Phi_X_shuffled[i]\n",
    "\n",
    "    return theta\n",
    "\n",
    "# Esempio di utilizzo della funzione\n",
    "K = 3  # Grado del polinomio\n",
    "epochs = 1000  # Numero di epochs\n",
    "learning_rate = 0.001  # Tasso di apprendimento\n",
    "\n",
    "X = np.linspace(0, 10, 100)  # Valori di X\n",
    "Y = np.random.randn(100)  # Valori di Y (esempio casuale)\n",
    "\n",
    "theta_MLE = compute_SGD(X, Y, K, epochs, learning_rate)\n",
    "print(\"Coefficients MLE (SGD):\", theta_MLE)"
   ]
  },
  {
   "cell_type": "code",
   "execution_count": 10,
   "metadata": {},
   "outputs": [
    {
     "name": "stdout",
     "output_type": "stream",
     "text": [
      "[1.19226683 1.04919162 0.98791404]\n"
     ]
    }
   ],
   "source": [
    "import numpy as np\n",
    "\n",
    "def compute_vandermonde_matrix(X, K):\n",
    "    return np.vander(X, K+1, increasing=True)\n",
    "\n",
    "def maximum_likelihood_estimation(X, Y, K):\n",
    "    vander_X = compute_vandermonde_matrix(X, K)\n",
    "    \n",
    "    # Compute the MLE estimate using the normal equation\n",
    "    # theta_MLE = (X^T * X)^(-1) * X^T * Y\n",
    "    theta_MLE = np.linalg.inv(vander_X.T.dot(vander_X)).dot(vander_X.T).dot(Y)\n",
    "    \n",
    "    return theta_MLE\n",
    "\n",
    "\n",
    "theta_MLE = maximum_likelihood_estimation(X, Y, K)\n",
    "print(theta_MLE)"
   ]
  },
  {
   "cell_type": "code",
   "execution_count": 11,
   "metadata": {},
   "outputs": [
    {
     "name": "stdout",
     "output_type": "stream",
     "text": [
      "The Mean Absolute Error of the model is: 0.47833193930800716\n"
     ]
    },
    {
     "data": {
      "image/png": "[encoded data removed]",
      "text/plain": [
       "<Figure size 432x288 with 1 Axes>"
      ]
     },
     "metadata": {
      "needs_background": "light"
     },
     "output_type": "display_data"
    }
   ],
   "source": [
    "import matplotlib.pyplot as plt\n",
    "\n",
    "def evaluate_model(X, Y, theta):\n",
    "    predictions = compute_vandermonde_matrix(X, len(theta)-1).dot(theta)\n",
    "    return np.mean(np.abs(predictions - Y))\n",
    "\n",
    "def plot_model(X, Y, theta):\n",
    "    plt.scatter(X, Y, color='red', label='Data Points')\n",
    "    X_plot = np.linspace(min(X), max(X), 1000)  # finer grid for a smoother curve\n",
    "    Y_plot = compute_vandermonde_matrix(X_plot, len(theta)-1).dot(theta)\n",
    "    plt.plot(X_plot, Y_plot, color='blue', label='MLE Model')\n",
    "    plt.legend()\n",
    "    plt.xlabel('X')\n",
    "    plt.ylabel('Y')\n",
    "    plt.title('Polynomial Regression Model')\n",
    "    plt.show()\n",
    "\n",
    "# Evaluate the model\n",
    "error = evaluate_model(X, Y, theta_MLE)\n",
    "print(f\"The Mean Absolute Error of the model is: {error}\")\n",
    "\n",
    "# Plot the model\n",
    "plot_model(X, Y, theta_MLE)\n"
   ]
  }
 ],
 "metadata": {
  "kernelspec": {
   "display_name": "Python 3.8.5 ('base')",
   "language": "python",
   "name": "python3"
  },
  "language_info": {
   "codemirror_mode": {
    "name": "ipython",
    "version": 3
   },
   "file_extension": ".py",
   "mimetype": "text/x-python",
   "name": "python",
   "nbconvert_exporter": "python",
   "pygments_lexer": "ipython3",
   "version": "3.8.5"
  },
  "orig_nbformat": 4,
  "vscode": {
   "interpreter": {
    "hash": "d4485451d304caa8f4c9dd363991b164c5fe2ca05e2672d978ba2d9ef4990cd2"
   }
  }
 },
 "nbformat": 4,
 "nbformat_minor": 2
}

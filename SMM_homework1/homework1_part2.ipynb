{
 "cells": [
  {
   "cell_type": "code",
   "execution_count": 1,
   "metadata": {},
   "outputs": [
    {
     "name": "stdout",
     "output_type": "stream",
     "text": [
      "n = 10: an = 2.5937424601000023, Error = 0.12453936835904278\n",
      "n = 100: an = 2.7048138294215285, Error = 0.01346799903751661\n",
      "n = 1000: an = 2.7169239322355936, Error = 0.0013578962234515046\n",
      "n = 10000: an = 2.7181459268249255, Error = 0.000135901634119584\n",
      "n = 100000: an = 2.7182682371922975, Error = 1.359126674760347e-05\n"
     ]
    }
   ],
   "source": [
    "import math\n",
    "\n",
    "def compute_sequence(n):\n",
    "    return (1 + 1/n)**n\n",
    "\n",
    "euler_constant = math.e\n",
    "\n",
    "# Compare the sequence for different values of n\n",
    "n_values = [10, 100, 1000, 10000, 100000]\n",
    "for n in n_values:\n",
    "    result = compute_sequence(n)\n",
    "    error = abs(result - euler_constant)\n",
    "    print(f'n = {n}: an = {result}, Error = {error}')\n"
   ]
  },
  {
   "cell_type": "markdown",
   "metadata": {},
   "source": [
    "The Machine epsilon eps is the distance between 1 and the next floating point number. Compute eps, which is defined as the smallest floating point number such that it holds:\n",
    "fl(1 + eps) > 1\n",
    "Tips: use a while structure."
   ]
  },
  {
   "cell_type": "code",
   "execution_count": 2,
   "metadata": {},
   "outputs": [
    {
     "name": "stdout",
     "output_type": "stream",
     "text": [
      "Machine epsilon eps is approximately: 2.220446049250313e-16\n"
     ]
    }
   ],
   "source": [
    "epsilon = 1.0\n",
    "while 1.0 + epsilon > 1.0:\n",
    "    epsilon /= 2\n",
    "\n",
    "epsilon *= 2\n",
    "print(\"Machine epsilon eps is approximately:\", epsilon)\n"
   ]
  },
  {
   "cell_type": "markdown",
   "metadata": {},
   "source": [
    "The <b>np.finfo</b> function in NumPy is used to obtain information about the floating-point representation used by the system, including the machine epsilon (eps). "
   ]
  },
  {
   "cell_type": "code",
   "execution_count": 13,
   "metadata": {},
   "outputs": [
    {
     "name": "stdout",
     "output_type": "stream",
     "text": [
      "Calculated Epsilon: 2.22044604925031308084726333618164062500000000000000e-16\n",
      "Machine Epsilon:     2.22044604925031308084726333618164062500000000000000e-16\n",
      "The error is: 0.000000000000000000000000000000e+00\n"
     ]
    }
   ],
   "source": [
    "import numpy as np\n",
    "real_epsilon = np.finfo(float).eps\n",
    "\n",
    "difference = abs(real_epsilon - epsilon)\n",
    "\n",
    "print(f\"Calculated Epsilon: {epsilon:.50e}\")\n",
    "print(f\"Machine Epsilon:     {real_epsilon:.50e}\")\n",
    "print(f\"The error is: {difference:.30e}\")\n"
   ]
  },
  {
   "cell_type": "markdown",
   "metadata": {},
   "source": [
    " Let’s consider the matrices: A = (4 2, 1 3) , B = (4 2 ,2 1)\n",
    "Compute the rank of A and B and their eigenvalues. Are A and B full-rank matrices? \n",
    "Can you infer some relationship between the values of the eigenvalues and the full-rank condition? Please, corroborate\n",
    "your deduction with other examples.\n",
    "Tips: Please, have a look at np.linalg."
   ]
  },
  {
   "cell_type": "code",
   "execution_count": 19,
   "metadata": {},
   "outputs": [
    {
     "name": "stdout",
     "output_type": "stream",
     "text": [
      "Rank of matrix A: 2\n",
      "Rank of matrix B: 1\n",
      "Eigenvalues of matrix A: [5. 2.]\n",
      "Eigenvalues of matrix B: [5. 0.]\n"
     ]
    }
   ],
   "source": [
    "A = np.array([[4,2],[1,3]])\n",
    "B = np.array([[4,2],[2,1]])\n",
    "\n",
    "\n",
    "rank_A = np.linalg.matrix_rank(A)\n",
    "eigenvalues_A = np.linalg.eigvals(A)\n",
    "\n",
    "rank_B = np.linalg.matrix_rank(B)\n",
    "eigenvalues_B = np.linalg.eigvals(B)\n",
    "\n",
    "print(\"Rank of matrix A:\", rank_A)\n",
    "print(\"Rank of matrix B:\", rank_B)\n",
    "print(\"Eigenvalues of matrix A:\", eigenvalues_A)\n",
    "print(\"Eigenvalues of matrix B:\", eigenvalues_B)\n",
    "\n",
    "\n"
   ]
  },
  {
   "cell_type": "markdown",
   "metadata": {},
   "source": [
    "The relationship between eigenvalues and full-rank condition is that if a matrix has all non-zero eigenvalues, it is full-rank (invertible). However, if it has at least one eigenvalue that is zero, it is not full-rank (singular). This relationship holds for square matrices."
   ]
  }
 ],
 "metadata": {
  "kernelspec": {
   "display_name": "Python 3.8.5 ('base')",
   "language": "python",
   "name": "python3"
  },
  "language_info": {
   "codemirror_mode": {
    "name": "ipython",
    "version": 3
   },
   "file_extension": ".py",
   "mimetype": "text/x-python",
   "name": "python",
   "nbconvert_exporter": "python",
   "pygments_lexer": "ipython3",
   "version": "3.8.5"
  },
  "orig_nbformat": 4,
  "vscode": {
   "interpreter": {
    "hash": "d4485451d304caa8f4c9dd363991b164c5fe2ca05e2672d978ba2d9ef4990cd2"
   }
  }
 },
 "nbformat": 4,
 "nbformat_minor": 2
}

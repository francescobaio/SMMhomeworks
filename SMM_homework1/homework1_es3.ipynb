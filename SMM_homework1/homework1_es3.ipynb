{
 "cells": [
  {
   "cell_type": "code",
   "execution_count": null,
   "metadata": {},
   "outputs": [],
   "source": [
    "# COMPUTE THE MACHINE EPS, \n",
    "#The np.finfo function in NumPy is implemented based on information provided by the system and its floating-point representation. \n",
    "\n",
    "\n",
    "epsilon = 1.0 \n",
    "\n",
    "while 1.0 + epsilon > 1.0:\n",
    "    epsilon /= 2\n",
    "eps = epsilon * 2\n",
    "\n",
    "print(\"Machine epsilon eps is approximately:\", epsilon)\n",
    "\n",
    "\n"
   ]
  },
  {
   "cell_type": "code",
   "execution_count": null,
   "metadata": {},
   "outputs": [],
   "source": [
    "Let’s consider the sequence an = (1 + 1/n). It is well known that: lim n→∞ an = e where e is the Euler costant. Choose different values for n, compute an and compare it to the real\n",
    "value of the Euler costant. \n",
    "What happens if you choose a large value of n? Guess the reason."
   ]
  },
  {
   "cell_type": "code",
   "execution_count": null,
   "metadata": {},
   "outputs": [],
   "source": [
    "import numpy as np\n",
    "\n",
    "epsilon = np.finfo(float).eps\n",
    "\n",
    "print(\"Machine epsilon eps is:\", epsilon)\n"
   ]
  },
  {
   "cell_type": "markdown",
   "metadata": {},
   "source": []
  }
 ],
 "metadata": {
  "kernelspec": {
   "display_name": "Python 3.8.5 ('base')",
   "language": "python",
   "name": "python3"
  },
  "language_info": {
   "name": "python",
   "version": "3.8.5"
  },
  "orig_nbformat": 4,
  "vscode": {
   "interpreter": {
    "hash": "d4485451d304caa8f4c9dd363991b164c5fe2ca05e2672d978ba2d9ef4990cd2"
   }
  }
 },
 "nbformat": 4,
 "nbformat_minor": 2
}
